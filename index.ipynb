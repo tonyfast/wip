{
 "cells": [
  {
   "cell_type": "markdown",
   "metadata": {},
   "source": [
    "# [<small><<</small>](..) [wip](index.html)"
   ]
  },
  {
   "cell_type": "code",
   "execution_count": 5,
   "metadata": {},
   "outputs": [
    {
     "data": {
      "text/markdown": [
       "[wip/weed.ipynb](wip/weed.html)"
      ],
      "text/plain": [
       "<IPython.core.display.Markdown object>"
      ]
     },
     "metadata": {},
     "output_type": "display_data"
    },
    {
     "data": {
      "text/markdown": [
       "[wip/clsindex/_luigi.ipynb](wip/clsindex/_luigi.html)"
      ],
      "text/plain": [
       "<IPython.core.display.Markdown object>"
      ]
     },
     "metadata": {},
     "output_type": "display_data"
    },
    {
     "data": {
      "text/markdown": [
       "[wip/clsindex/_pathlib.ipynb](wip/clsindex/_pathlib.html)"
      ],
      "text/plain": [
       "<IPython.core.display.Markdown object>"
      ]
     },
     "metadata": {},
     "output_type": "display_data"
    },
    {
     "data": {
      "text/markdown": [
       "[wip/clsindex/_requests.ipynb](wip/clsindex/_requests.html)"
      ],
      "text/plain": [
       "<IPython.core.display.Markdown object>"
      ]
     },
     "metadata": {},
     "output_type": "display_data"
    },
    {
     "data": {
      "text/markdown": [
       "[wip/clsindex/base.ipynb](wip/clsindex/base.html)"
      ],
      "text/plain": [
       "<IPython.core.display.Markdown object>"
      ]
     },
     "metadata": {},
     "output_type": "display_data"
    }
   ],
   "source": [
    "from IPython.display import *; from pathlib import Path\n",
    "for pkg in __import__('setuptools').find_packages():\n",
    "    for path in Path(pkg).rglob('*.ipynb'): \n",
    "        display(Markdown(\"[{}]({})\".format(path, path.with_suffix('.html'))))"
   ]
  },
  {
   "cell_type": "code",
   "execution_count": 10,
   "metadata": {},
   "outputs": [
    {
     "name": "stdout",
     "output_type": "stream",
     "text": [
      "[NbConvertApp] Converting notebook wip/weed/gallup.ipynb to html\r\n",
      "[NbConvertApp] Writing 330578 bytes to wip/weed/gallup.html\r\n",
      "[NbConvertApp] Converting notebook wip/weed/history.ipynb to html\r\n",
      "[NbConvertApp] Writing 744374 bytes to wip/weed/history.html\r\n",
      "[NbConvertApp] Converting notebook wip/weed/readme.ipynb to html\r\n",
      "[NbConvertApp] Writing 250192 bytes to wip/weed/readme.html\r\n",
      "[NbConvertApp] Converting notebook wip/clsindex/_luigi.ipynb to html\r\n",
      "[NbConvertApp] Writing 251444 bytes to wip/clsindex/_luigi.html\r\n",
      "[NbConvertApp] Converting notebook wip/clsindex/_pathlib.ipynb to html\r\n",
      "[NbConvertApp] Writing 253902 bytes to wip/clsindex/_pathlib.html\r\n",
      "[NbConvertApp] Converting notebook wip/clsindex/_requests.ipynb to html\r\n",
      "[NbConvertApp] Writing 257415 bytes to wip/clsindex/_requests.html\r\n",
      "[NbConvertApp] Converting notebook wip/clsindex/base.ipynb to html\r\n",
      "[NbConvertApp] Writing 261268 bytes to wip/clsindex/base.html\r\n",
      "[NbConvertApp] Converting notebook readme.ipynb to markdown\r\n",
      "[NbConvertApp] Writing 473 bytes to readme.md\r\n"
     ]
    }
   ],
   "source": [
    "!jupyter nbconvert wip/weed/*.ipynb wip/clsindex/*.ipynb && jupyter nbconvert --to markdown readme.ipynb"
   ]
  }
 ],
 "metadata": {
  "kernelspec": {
   "display_name": "Python 3",
   "language": "python",
   "name": "python3"
  },
  "language_info": {
   "codemirror_mode": {
    "name": "ipython",
    "version": 3
   },
   "file_extension": ".py",
   "mimetype": "text/x-python",
   "name": "python",
   "nbconvert_exporter": "python",
   "pygments_lexer": "ipython3",
   "version": "3.5.3"
  }
 },
 "nbformat": 4,
 "nbformat_minor": 2
}
