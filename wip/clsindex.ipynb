{
 "cells": [
  {
   "cell_type": "markdown",
   "metadata": {},
   "source": [
    "# Creating a custom Index in Pandas\n",
    "\n",
    "The pandas.Datetimeindex is the jam because of the extra properties that access portions of the time.  I'd really like a `pathlib` version of this, `...` and a `luigi` target version."
   ]
  },
  {
   "cell_type": "code",
   "execution_count": 5,
   "metadata": {},
   "outputs": [],
   "source": [
    "from requests import *; from pandas import Index, Series, DataFrame, np; import pandas as pd\n",
    "from toolz.curried.operator import *; from toolz.curried import *"
   ]
  },
  {
   "cell_type": "code",
   "execution_count": 6,
   "metadata": {},
   "outputs": [],
   "source": [
    "import pickle"
   ]
  },
  {
   "cell_type": "code",
   "execution_count": 7,
   "metadata": {},
   "outputs": [],
   "source": [
    "from functools import wraps\n",
    "\n",
    "class BaseIndex(Index):\n",
    "    _base, _dtype = Index, object\n",
    "    \n",
    "    @property\n",
    "    def _attr_mapper(self):\n",
    "        yield tuple(dir(self._base)), Series\n",
    "    \n",
    "    def __new__(cls, data=None, dtype=None, copy=False, name=None, fastpath=False, tupleize_cols=True, **kwargs):\n",
    "        if isiterable(data) and not isinstance(data, Index):\n",
    "            try:\n",
    "                data = cls._coerce_to_ndarray(map(cls._base, data))\n",
    "            except (TypeError, ValueError): ...\n",
    "            \n",
    "        return cls._simple_new(data, name, dtype=dtype, copy=copy, fastpath=fastpath, tupleize_cols=tupleize_cols, **kwargs).astype(dtype or cls._dtype)\n",
    "    \n",
    "    def __getattribute__(self, name):\n",
    "        try:\n",
    "            return super().__getattribute__(name)\n",
    "        except AttributeError as e:\n",
    "            for attrs, cls in self._attr_mapper:\n",
    "                if name in attrs: break\n",
    "            else:\n",
    "                raise e\n",
    "            \n",
    "            attr = getattr(self._base, name, None)\n",
    "            \n",
    "            # There is no way to interpret the attribute\n",
    "            if cls is False: raise NotImplemented\n",
    "            \n",
    "            if isinstance(attr, property) or not callable(attr): #  return computed values, not a callable.\n",
    "                result = cls(self.map(attrgetter(name)))\n",
    "                if cls in (Series, DataFrame): \n",
    "                    result.index = self\n",
    "                return (self if cls is None else result)\n",
    "\n",
    "            # wrap a callable for later.\n",
    "            @wraps(attr)\n",
    "            def mapper(*args, **kwargs):                        \n",
    "                if cls is None: return self        \n",
    "                result = cls(self.map(partial(lambda v: attr(v, *args, **kwargs))))\n",
    "                if cls in (Series, DataFrame): result.index = self\n",
    "                return result\n",
    "            return mapper\n",
    "    \n",
    "    def __dir__(self):\n",
    "        \"\"\"Update the available attribute.\"\"\"\n",
    "        return list(super().__dir__()) + dir(self._base) + list(concat(pluck(0, self._attr_mapper)))\n",
    "    \n",
    "    def astype(self, dtype, copy=True):\n",
    "        if dtype: self._data = self._data.astype(dtype, copy=copy)\n",
    "        return self"
   ]
  },
  {
   "cell_type": "code",
   "execution_count": 8,
   "metadata": {},
   "outputs": [],
   "source": [
    "from requests import *"
   ]
  },
  {
   "cell_type": "code",
   "execution_count": 9,
   "metadata": {},
   "outputs": [],
   "source": [
    "_cache = dict()\n",
    "\n",
    "import requests\n",
    "\n",
    "class RequestIndex(BaseIndex):\n",
    "    _base = str\n",
    "    def get(self, **kwargs):\n",
    "        return ResponseIndex([memoize(\n",
    "            cache=_cache, key=lambda a, k: pickle.dumps((a,k))\n",
    "        )(requests.get)(value, **kwargs) for value in self])\n",
    "    \n",
    "    def __add__(self, value, prefix=\"\"):\n",
    "        if not isinstance(value, str) and isiterable(value):\n",
    "            return type(self)(str(_0)+prefix+str(_1) for _0, _1 in zip(self, value))\n",
    "        return self.map(flip(add)(prefix+str(value)))\n",
    "    \n",
    "    def __truediv__(self, value):\n",
    "        return self.__add__(value, '/')"
   ]
  },
  {
   "cell_type": "code",
   "execution_count": 10,
   "metadata": {},
   "outputs": [],
   "source": [
    "import requests\n",
    "\n",
    "class ResponseIndex(BaseIndex):\n",
    "    _base = Response\n",
    "    _attr_mapper = [tuple(Response.__dict__.keys()), Series], [tuple(Response.__attrs__), Index]"
   ]
  },
  {
   "cell_type": "code",
   "execution_count": 11,
   "metadata": {},
   "outputs": [],
   "source": [
    "# i = RequestIndex(['http://localhost:8888/api', 'http://localhost:8888/api/contents'])\n",
    "\n",
    "# v = i.get(params={'foo': 'bar'}).text\n",
    "\n",
    "# s = RequestIndex(['https://api.github.com/users/tonyfast']).get()\n",
    "\n",
    "# gists = Series([\n",
    "#     s.json()[0]['gists_url'].replace('{/gist_id}', '?page=')\n",
    "# ]*2).reset_index().pipe(lambda df: RequestIndex(df[0])+(df.index+1)).get().json()"
   ]
  },
  {
   "cell_type": "code",
   "execution_count": 12,
   "metadata": {},
   "outputs": [],
   "source": [
    "from pathlib import Path"
   ]
  },
  {
   "cell_type": "code",
   "execution_count": 13,
   "metadata": {},
   "outputs": [],
   "source": [
    "class PathIndex(BaseIndex):\n",
    "    _base = Path\n",
    "    \n",
    "    def __truediv__(self, value):\n",
    "        return type(self)(self.map(flip(Path.__truediv__)(value)))\n",
    "    \n",
    "    def __rtruediv__(self, value):\n",
    "        return type(self)(self.map(flip(Path.__rtruediv__)(value)))\n",
    "    \n",
    "PathIndex._attr_mapper = [\n",
    "    [['glob', 'rglob', 'iterdir'], compose(PathIndex, list, concat)],\n",
    "    [tuple(dir(Path)), Series]\n",
    "]\n"
   ]
  },
  {
   "cell_type": "code",
   "execution_count": 14,
   "metadata": {},
   "outputs": [],
   "source": [
    "from luigi import  *"
   ]
  },
  {
   "cell_type": "code",
   "execution_count": 31,
   "metadata": {},
   "outputs": [],
   "source": [
    "class TargetIndex(BaseIndex):\n",
    "    _base = Target\n",
    "    _attr_mapper = [\n",
    "        [['fs'], Series],\n",
    "        [['path'], Index],\n",
    "        [tuple(dir(Target)), Index],\n",
    "    ]"
   ]
  },
  {
   "cell_type": "code",
   "execution_count": 34,
   "metadata": {},
   "outputs": [
    {
     "data": {
      "text/plain": [
       "<luigi.local_target.LocalFileSystem at 0x10c09f550>"
      ]
     },
     "execution_count": 34,
     "metadata": {},
     "output_type": "execute_result"
    }
   ],
   "source": [
    "TargetIndex([\n",
    "    LocalTarget('.')\n",
    "])"
   ]
  },
  {
   "cell_type": "code",
   "execution_count": 33,
   "metadata": {},
   "outputs": [],
   "source": [
    "p = PathIndex(['.'])"
   ]
  },
  {
   "cell_type": "code",
   "execution_count": null,
   "metadata": {},
   "outputs": [],
   "source": []
  }
 ],
 "metadata": {
  "kernelspec": {
   "display_name": "Python 3",
   "language": "python",
   "name": "python3"
  },
  "language_info": {
   "codemirror_mode": {
    "name": "ipython",
    "version": 3
   },
   "file_extension": ".py",
   "mimetype": "text/x-python",
   "name": "python",
   "nbconvert_exporter": "python",
   "pygments_lexer": "ipython3",
   "version": "3.5.3"
  }
 },
 "nbformat": 4,
 "nbformat_minor": 2
}
