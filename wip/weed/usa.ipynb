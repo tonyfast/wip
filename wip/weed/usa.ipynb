{
 "cells": [
  {
   "cell_type": "code",
   "execution_count": 1,
   "metadata": {},
   "outputs": [],
   "source": [
    "from toolz.curried.operator import *; from toolz.curried import *\n",
    "from pandas import *\n",
    "\n",
    "from bs4 import BeautifulSoup"
   ]
  },
  {
   "cell_type": "code",
   "execution_count": 2,
   "metadata": {},
   "outputs": [
    {
     "data": {
      "text/plain": [
       "'https://en.wikipedia.org/wiki/List_of_U.S._states_by_date_of_admission_to_the_Union'"
      ]
     },
     "execution_count": 2,
     "metadata": {},
     "output_type": "execute_result"
    }
   ],
   "source": [
    "__wiki__ = 'https://en.wikipedia.org/wiki/List_of_U.S._states_by_date_of_admission_to_the_Union'\n",
    "__wiki__"
   ]
  },
  {
   "cell_type": "code",
   "execution_count": 3,
   "metadata": {},
   "outputs": [],
   "source": [
    "df = read_html(__wiki__)[0]\n",
    "df.columns = df.iloc[0].values.tolist()\n",
    "df = df.iloc[1:]\n",
    "\n",
    "df.State = df['State'].str.split('!', 1).apply(second).str.strip()\n",
    "df.Order = df['Order'].str.split('!', 1).apply(second).str.rstrip('[h]').astype(int)\n",
    "\n",
    "df.loc[40, ['Date of admission', 'Formed from']] = df.loc[39, ['Date of admission', 'Formed from']]\n",
    "df['Date of admission'] = df['Date of admission'].str.split('-0000').apply(second).str.split('[',1).apply(first).pipe(to_datetime)\n",
    "df = df.set_index('Date of admission')"
   ]
  },
  {
   "cell_type": "code",
   "execution_count": null,
   "metadata": {},
   "outputs": [],
   "source": []
  }
 ],
 "metadata": {
  "kernelspec": {
   "display_name": "Python 3",
   "language": "python",
   "name": "python3"
  },
  "language_info": {
   "codemirror_mode": {
    "name": "ipython",
    "version": 3
   },
   "file_extension": ".py",
   "mimetype": "text/x-python",
   "name": "python",
   "nbconvert_exporter": "python",
   "pygments_lexer": "ipython3",
   "version": "3.5.3"
  }
 },
 "nbformat": 4,
 "nbformat_minor": 2
}
