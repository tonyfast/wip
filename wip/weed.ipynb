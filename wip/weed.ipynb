{
 "cells": [
  {
   "cell_type": "markdown",
   "metadata": {},
   "source": [
    "# A study on em🌳jis and weed\n",
    "\n",
    "Starting from the document http://www.hempyreum.org/en/72640 using the [PDF](http://www.gallup.com/file/poll/196556/161019LegalMarijuana.pdf)\n",
    "\n",
    "## PdfMiner\n",
    "\n",
    "Use pdfminer3k - the python 3 fork of pdfminer to parse the document from "
   ]
  },
  {
   "cell_type": "code",
   "execution_count": 33,
   "metadata": {},
   "outputs": [],
   "source": [
    "    %%bash\n",
    "    pip install git+https://github.com/jaepil/pdfminer3k\n",
    "    pdf2txt.py ../../Downloads/161019LegalMarijuana.pdf > legal.txt"
   ]
  },
  {
   "cell_type": "markdown",
   "metadata": {},
   "source": [
    "### Split the parsed text"
   ]
  },
  {
   "cell_type": "code",
   "execution_count": 167,
   "metadata": {},
   "outputs": [],
   "source": [
    "    from fidget import a, the, stars\n",
    "    from wip.clsindex import PathIndex\n",
    "\n",
    "    blob = PathIndex('legal.txt').read_text().str.split('Do you think the use of marijuana should be made legal, or not\\?').apply(the.last()).str.strip()[0].replace('\\n^ Asked of a half sample. \\n', '')\n",
    "\n",
    "    *columns, blob = blob.split('\\n'*2, 3)"
   ]
  },
  {
   "cell_type": "markdown",
   "metadata": {},
   "source": [
    "### Chop it up further into a dataframe"
   ]
  },
  {
   "cell_type": "code",
   "execution_count": 168,
   "metadata": {},
   "outputs": [
    {
     "data": {
      "text/html": [
       "<div>\n",
       "<table border=\"1\" class=\"dataframe\">\n",
       "  <thead>\n",
       "    <tr style=\"text-align: right;\">\n",
       "      <th>time</th>\n",
       "      <th>2015-10-07 00:00:00</th>\n",
       "      <th>2005-10-13 00:00:00</th>\n",
       "      <th>1973-01-26 00:00:00</th>\n",
       "      <th>2001-08-03 00:00:00</th>\n",
       "      <th>2000-08-29 00:00:00</th>\n",
       "      <th>1969-10-02 00:00:00</th>\n",
       "      <th>1972-03-03 00:00:00</th>\n",
       "      <th>2009-10-01 00:00:00</th>\n",
       "      <th>2012-11-26 00:00:00</th>\n",
       "      <th>1985-05-17 00:00:00</th>\n",
       "    </tr>\n",
       "  </thead>\n",
       "  <tbody>\n",
       "    <tr>\n",
       "      <th>+</th>\n",
       "      <td>58</td>\n",
       "      <td>36</td>\n",
       "      <td>16</td>\n",
       "      <td>34</td>\n",
       "      <td>31</td>\n",
       "      <td>12</td>\n",
       "      <td>15</td>\n",
       "      <td>44</td>\n",
       "      <td>48</td>\n",
       "      <td>23</td>\n",
       "    </tr>\n",
       "    <tr>\n",
       "      <th>-</th>\n",
       "      <td>40</td>\n",
       "      <td>60</td>\n",
       "      <td>78</td>\n",
       "      <td>62</td>\n",
       "      <td>64</td>\n",
       "      <td>84</td>\n",
       "      <td>81</td>\n",
       "      <td>54</td>\n",
       "      <td>50</td>\n",
       "      <td>73</td>\n",
       "    </tr>\n",
       "    <tr>\n",
       "      <th>~</th>\n",
       "      <td>2</td>\n",
       "      <td>4</td>\n",
       "      <td>6</td>\n",
       "      <td>4</td>\n",
       "      <td>5</td>\n",
       "      <td>4</td>\n",
       "      <td>4</td>\n",
       "      <td>2</td>\n",
       "      <td>1</td>\n",
       "      <td>4</td>\n",
       "    </tr>\n",
       "  </tbody>\n",
       "</table>\n",
       "</div>"
      ],
      "text/plain": [
       "time  2015-10-07  2005-10-13  1973-01-26  2001-08-03  2000-08-29  1969-10-02  \\\n",
       "+             58          36          16          34          31          12   \n",
       "-             40          60          78          62          64          84   \n",
       "~              2           4           6           4           5           4   \n",
       "\n",
       "time  1972-03-03  2009-10-01  2012-11-26  1985-05-17  \n",
       "+             15          44          48          23  \n",
       "-             81          54          50          73  \n",
       "~              4           2           1           4  "
      ]
     },
     "execution_count": 168,
     "metadata": {},
     "output_type": "execute_result"
    }
   ],
   "source": [
    "from pandas import *\n",
    "df = the[the.enumerate().groupby(\n",
    "    the.first()[lambda x: x//(1+(len(blob.splitlines())//4))]\n",
    ")].valmap(a.pluck(1).list())[dict.values].list()[Series](blob.splitlines()).apply(Series).T\n",
    "df = df[df.astype(bool).all(axis=1)]\n",
    "df[0] = df[0].str.rstrip(' ^ ').str.split('-', 1).apply(the.first()).pipe(to_datetime, format=\"%Y %b %d\")\n",
    "df, df.columns = df.set_index(0).astype(int), list('+-~')\n",
    "df.index.rename('time', inplace=True)\n",
    "df.sample(10).T"
   ]
  },
  {
   "cell_type": "code",
   "execution_count": 169,
   "metadata": {},
   "outputs": [
    {
     "data": {
      "image/png": "[encoded data removed]",
      "text/plain": [
       "<matplotlib.figure.Figure at 0x11d3e1f28>"
      ]
     },
     "metadata": {},
     "output_type": "display_data"
    }
   ],
   "source": [
    "%matplotlib inline\n",
    "df.groupby(TimeGrouper('A')).sum().pipe(lambda df: df[df.gt(0).all(axis=1)]\n",
    "                                       ).plot(title='Stoked on nugs', figsize=(12,6), grid=True);"
   ]
  },
  {
   "cell_type": "markdown",
   "metadata": {},
   "source": [
    "## To do\n",
    "\n",
    "* emojis\n",
    "* munge half `^` token"
   ]
  }
 ],
 "metadata": {
  "kernelspec": {
   "display_name": "Python 3",
   "language": "python",
   "name": "python3"
  },
  "language_info": {
   "codemirror_mode": {
    "name": "ipython",
    "version": 3
   },
   "file_extension": ".py",
   "mimetype": "text/x-python",
   "name": "python",
   "nbconvert_exporter": "python",
   "pygments_lexer": "ipython3",
   "version": "3.5.3"
  }
 },
 "nbformat": 4,
 "nbformat_minor": 2
}
