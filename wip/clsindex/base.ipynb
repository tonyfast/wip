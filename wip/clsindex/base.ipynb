{
 "cells": [
  {
   "cell_type": "code",
   "execution_count": 35,
   "metadata": {},
   "outputs": [],
   "source": [
    "from pandas import Index, Series, DataFrame, np; import pandas as pd\n",
    "from toolz.curried.operator import *; from toolz.curried import *"
   ]
  },
  {
   "cell_type": "code",
   "execution_count": 36,
   "metadata": {},
   "outputs": [],
   "source": [
    "from functools import wraps\n",
    "\n",
    "class BaseIndex(Index):\n",
    "    _base, _dtype = Index, object\n",
    "    \n",
    "    @property\n",
    "    def _attr_mapper(self):\n",
    "        yield tuple(dir(self._base)), Series\n",
    "    \n",
    "    def __new__(cls, data=None, dtype=None, copy=False, name=None, fastpath=False, tupleize_cols=True, **kwargs):\n",
    "        if isiterable(data) and not isinstance(data, Index):\n",
    "            try:\n",
    "                data = cls._coerce_to_ndarray(map(cls._base, data))\n",
    "            except (TypeError, ValueError): ...\n",
    "            \n",
    "        return cls._simple_new(data, name, dtype=dtype, copy=copy, fastpath=fastpath, tupleize_cols=tupleize_cols, **kwargs).astype(dtype or cls._dtype)\n",
    "    \n",
    "    def __getattribute__(self, name):\n",
    "        try:\n",
    "            return super().__getattribute__(name)\n",
    "        except AttributeError as e:\n",
    "            for attrs, cls in self._attr_mapper:\n",
    "                if name in attrs: break\n",
    "            else:\n",
    "                raise e\n",
    "            \n",
    "            attr = getattr(self._base, name, None)\n",
    "            \n",
    "            # There is no way to interpret the attribute\n",
    "            if cls is False: raise NotImplemented\n",
    "            \n",
    "            if isinstance(attr, property) or not callable(attr): #  return computed values, not a callable.\n",
    "                result = cls(self.map(attrgetter(name)))\n",
    "                if cls in (Series, DataFrame): \n",
    "                    result.index = self\n",
    "                return (self if cls is None else result)\n",
    "\n",
    "            # wrap a callable for later.\n",
    "            @wraps(attr)\n",
    "            def mapper(*args, **kwargs):                        \n",
    "                if cls is None: return self        \n",
    "                result = cls(self.map(partial(lambda v: attr(v, *args, **kwargs))))\n",
    "                if cls in (Series, DataFrame): result.index = self\n",
    "                return result\n",
    "            return mapper\n",
    "    \n",
    "    def __dir__(self):\n",
    "        \"\"\"Update the available attribute.\"\"\"\n",
    "        return list(super().__dir__()) + dir(self._base) + list(concat(pluck(0, self._attr_mapper)))\n",
    "    \n",
    "    def astype(self, dtype, copy=True):\n",
    "        if dtype: self._data = self._data.astype(dtype, copy=copy)\n",
    "        return self"
   ]
  }
 ],
 "metadata": {
  "kernelspec": {
   "display_name": "Python 3",
   "language": "python",
   "name": "python3"
  },
  "language_info": {
   "codemirror_mode": {
    "name": "ipython",
    "version": 3
   },
   "file_extension": ".py",
   "mimetype": "text/x-python",
   "name": "python",
   "nbconvert_exporter": "python",
   "pygments_lexer": "ipython3",
   "version": "3.5.3"
  }
 },
 "nbformat": 4,
 "nbformat_minor": 2
}
