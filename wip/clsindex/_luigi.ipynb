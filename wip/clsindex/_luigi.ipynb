{
 "cells": [
  {
   "cell_type": "code",
   "execution_count": 5,
   "metadata": {},
   "outputs": [],
   "source": [
    "o = __name__ == '__main__'\n",
    "from pandas import Series, Index, DataFrame\n",
    "from toolz.curried import *\n",
    "if o:\n",
    "    %reload_ext importable\n",
    "    from base import BaseIndex\n",
    "else:\n",
    "    from .base import BaseIndex\n",
    "from luigi import *\n",
    "__all__ = 'TargetIndex',"
   ]
  },
  {
   "cell_type": "code",
   "execution_count": 6,
   "metadata": {},
   "outputs": [],
   "source": [
    "class TargetIndex(BaseIndex):\n",
    "    _base = Target\n",
    "    _attr_mapper = [\n",
    "        [['fs'], Series],\n",
    "        [['path'], Index],\n",
    "        [tuple(dir(Target)), Index],]"
   ]
  }
 ],
 "metadata": {
  "kernelspec": {
   "display_name": "Python 3",
   "language": "python",
   "name": "python3"
  },
  "language_info": {
   "codemirror_mode": {
    "name": "ipython",
    "version": 3
   },
   "file_extension": ".py",
   "mimetype": "text/x-python",
   "name": "python",
   "nbconvert_exporter": "python",
   "pygments_lexer": "ipython3",
   "version": "3.5.3"
  }
 },
 "nbformat": 4,
 "nbformat_minor": 2
}
