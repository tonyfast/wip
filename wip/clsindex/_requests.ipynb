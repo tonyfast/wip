{
 "cells": [
  {
   "cell_type": "code",
   "execution_count": null,
   "metadata": {},
   "outputs": [],
   "source": [
    "o = __name__ == '__main__'\n",
    "from pandas import Series, Index, DataFrame\n",
    "from toolz.curried import *\n",
    "if o:\n",
    "    %reload_ext importable\n",
    "    from base import BaseIndex\n",
    "else:\n",
    "    from .base import BaseIndex\n",
    "    \n",
    "from requests import *\n",
    "\n",
    "__all__ = 'RequestIndex', 'ResponseIndex'"
   ]
  },
  {
   "cell_type": "code",
   "execution_count": 8,
   "metadata": {},
   "outputs": [],
   "source": [
    "import pickle\n",
    "_cache = dict()\n",
    "\n",
    "class RequestIndex(BaseIndex):\n",
    "    _base = str\n",
    "    def get(self, **kwargs):\n",
    "        cache = _cache is not None and memoize(cache=_cache, key=lambda a, k: pickle.dumps((a,k))) or identity\n",
    "        return ResponseIndex([cache(get)(value, **kwargs) for value in self])\n",
    "    \n",
    "    def __add__(self, value, prefix=\"\"):\n",
    "        if not isinstance(value, str) and isiterable(value):\n",
    "            return type(self)(str(_0)+prefix+str(_1) for _0, _1 in zip(self, value))\n",
    "        return self.map(flip(add)(prefix+str(value)))\n",
    "    \n",
    "    def __truediv__(self, value):\n",
    "        return self.__add__(value, '/')\n",
    "\n",
    "class ResponseIndex(BaseIndex):\n",
    "    _base = Response\n",
    "    _attr_mapper = [tuple(Response.__dict__.keys()), Series], [tuple(Response.__attrs__), Index]"
   ]
  }
 ],
 "metadata": {
  "kernelspec": {
   "display_name": "Python 3",
   "language": "python",
   "name": "python3"
  },
  "language_info": {
   "codemirror_mode": {
    "name": "ipython",
    "version": 3
   },
   "file_extension": ".py",
   "mimetype": "text/x-python",
   "name": "python",
   "nbconvert_exporter": "python",
   "pygments_lexer": "ipython3",
   "version": "3.5.3"
  }
 },
 "nbformat": 4,
 "nbformat_minor": 2
}
