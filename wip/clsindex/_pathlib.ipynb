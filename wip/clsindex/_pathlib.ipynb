{
 "cells": [
  {
   "cell_type": "code",
   "execution_count": 2,
   "metadata": {},
   "outputs": [],
   "source": [
    "o = __name__ == '__main__'\n",
    "from pandas import Series, Index, DataFrame\n",
    "from toolz.curried import *\n",
    "if o:\n",
    "    %reload_ext importable\n",
    "    from base import BaseIndex\n",
    "else:\n",
    "    from .base import BaseIndex\n",
    "from pathlib import Path\n",
    "\n",
    "__all__ = 'PathIndex',"
   ]
  },
  {
   "cell_type": "code",
   "execution_count": 7,
   "metadata": {},
   "outputs": [],
   "source": [
    "class PathIndex(BaseIndex):\n",
    "    _base = Path\n",
    "    \n",
    "    def __truediv__(self, value):\n",
    "        return type(self)(self.map(flip(Path.__truediv__)(value)))\n",
    "    \n",
    "    def __rtruediv__(self, value):\n",
    "        return type(self)(self.map(flip(Path.__rtruediv__)(value)))\n",
    "    \n",
    "PathIndex._attr_mapper = [\n",
    "    [[\n",
    "        'relative_to', 'with_name', 'with_suffix', 'joinpath', 'absolute',\n",
    "        'parents', 'parent', 'cwd', 'resolve', 'home', 'expanduser',\n",
    "    ], PathIndex],\n",
    "    [['glob', 'rglob', 'iterdir', 'parents'], compose(PathIndex, list, concat)],\n",
    "    [tuple(dir(Path)), Series]]"
   ]
  }
 ],
 "metadata": {
  "kernelspec": {
   "display_name": "Python 3",
   "language": "python",
   "name": "python3"
  },
  "language_info": {
   "codemirror_mode": {
    "name": "ipython",
    "version": 3
   },
   "file_extension": ".py",
   "mimetype": "text/x-python",
   "name": "python",
   "nbconvert_exporter": "python",
   "pygments_lexer": "ipython3",
   "version": "3.5.3"
  }
 },
 "nbformat": 4,
 "nbformat_minor": 2
}
