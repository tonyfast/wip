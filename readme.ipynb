{
 "cells": [
  {
   "cell_type": "markdown",
   "metadata": {},
   "source": [
    "# Works in progress\n",
    "\n",
    "Keep track of the [posts](tonyfast.github.io/forever-whatever/) for progress."
   ]
  },
  {
   "cell_type": "markdown",
   "metadata": {},
   "source": [
    "## Lines On Deck"
   ]
  },
  {
   "cell_type": "markdown",
   "metadata": {},
   "source": [
    "## `clsindex`\n",
    "\n",
    "Pandas indices for different objects, but primarily `pathlib.Path` and `requests.Request`."
   ]
  },
  {
   "cell_type": "code",
   "execution_count": 1,
   "metadata": {},
   "outputs": [
    {
     "data": {
      "text/plain": [
       "(wip.clsindex._requests.RequestIndex,\n",
       " wip.clsindex._requests.ResponseIndex,\n",
       " wip.clsindex._pathlib.PathIndex)"
      ]
     },
     "execution_count": 1,
     "metadata": {},
     "output_type": "execute_result"
    }
   ],
   "source": [
    "from wip.clsindex import *\n",
    "RequestIndex, ResponseIndex, PathIndex"
   ]
  },
  {
   "cell_type": "markdown",
   "metadata": {},
   "source": [
    "### `PathIndex` example."
   ]
  },
  {
   "cell_type": "code",
   "execution_count": 56,
   "metadata": {},
   "outputs": [
    {
     "data": {
      "text/plain": [
       "'The are 8 notebooks in wip.'"
      ]
     },
     "execution_count": 56,
     "metadata": {},
     "output_type": "execute_result"
    }
   ],
   "source": [
    "df = PathIndex('.').rglob('*.ipynb').to_series().pipe(\n",
    "    lambda df: df[df.apply(lambda x: '-checkpoint' not in x.name)]).pipe(PathIndex)\n",
    "\n",
    "\"The are {1} notebooks in {0}.\".format(PathIndex('.')[0].absolute().name, len(df))"
   ]
  },
  {
   "cell_type": "code",
   "execution_count": 57,
   "metadata": {},
   "outputs": [
    {
     "data": {
      "text/plain": [
       "'That is a total of 24 cells.'"
      ]
     },
     "execution_count": 57,
     "metadata": {},
     "output_type": "execute_result"
    }
   ],
   "source": [
    "\"That is a total of {} cells.\".format(\n",
    "    df.read_text().apply(\n",
    "        __import__('nbformat').reads, args=[4]\n",
    "    ).apply(dict.__getitem__, args=['cells']).apply(len).sum())"
   ]
  },
  {
   "cell_type": "code",
   "execution_count": 58,
   "metadata": {},
   "outputs": [
    {
     "name": "stdout",
     "output_type": "stream",
     "text": [
      "[NbConvertApp] Converting notebook readme.ipynb to markdown\r\n",
      "[NbConvertApp] Writing 1153 bytes to readme.md\r\n"
     ]
    }
   ],
   "source": [
    "!jupyter nbconvert --to markdown readme.ipynb"
   ]
  }
 ],
 "metadata": {
  "kernelspec": {
   "display_name": "Python 3",
   "language": "python",
   "name": "python3"
  },
  "language_info": {
   "codemirror_mode": {
    "name": "ipython",
    "version": 3
   },
   "file_extension": ".py",
   "mimetype": "text/x-python",
   "name": "python",
   "nbconvert_exporter": "python",
   "pygments_lexer": "ipython3",
   "version": "3.5.3"
  }
 },
 "nbformat": 4,
 "nbformat_minor": 2
}
